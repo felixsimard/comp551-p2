{
 "cells": [
  {
   "cell_type": "markdown",
   "metadata": {
    "colab_type": "text",
    "id": "view-in-github"
   },
   "source": [
    "<a href=\"https://colab.research.google.com/github/felixsimard/comp551-p2/blob/main/tyler_part1_2.ipynb\" target=\"_parent\"><img src=\"https://colab.research.google.com/assets/colab-badge.svg\" alt=\"Open In Colab\"/></a>"
   ]
  },
  {
   "cell_type": "markdown",
   "metadata": {
    "id": "zd3qXJ1pfYCR"
   },
   "source": [
    "# Logistic Regression\n",
    "In logistic regression we perform binary classification of by learnig a function of the form $f_w(x) = \\sigma(x^\\top w)$. Here $x,w \\in \\mathbb{R}^D$, where $D$ is the number of features as before. $\\sigma(z) = \\frac{1}{1+e^{-z}}$ is the logistic function.  Let's plot this function below"
   ]
  },
  {
   "cell_type": "code",
   "execution_count": 5,
   "metadata": {
    "id": "B5pe1Q2KfYCS"
   },
   "outputs": [],
   "source": [
    "import numpy as np\n",
    "#%matplotlib notebook\n",
    "%matplotlib inline\n",
    "import matplotlib.pyplot as plt\n",
    "from IPython.core.debugger import set_trace\n",
    "import warnings\n",
    "warnings.filterwarnings('ignore')"
   ]
  },
  {
   "cell_type": "code",
   "execution_count": 6,
   "metadata": {
    "colab": {
     "base_uri": "https://localhost:8080/",
     "height": 299
    },
    "id": "C3pt1pgcfYCX",
    "outputId": "a334c6ff-09da-4425-b9e4-ee86566eb1a8"
   },
   "outputs": [
    {
     "data": {
      "text/plain": [
       "Text(0.5, 1.0, 'logistic function')"
      ]
     },
     "execution_count": 6,
     "metadata": {},
     "output_type": "execute_result"
    },
    {
     "data": {
      "image/png": "[encoded data removed]",
      "text/plain": [
       "<Figure size 432x288 with 1 Axes>"
      ]
     },
     "metadata": {
      "needs_background": "light"
     },
     "output_type": "display_data"
    }
   ],
   "source": [
    "logistic = lambda z: 1./ (1 + np.exp(-z))       #logistic function\n",
    "z = np.linspace(-10,10,100)\n",
    "plt.plot(z, logistic(z))\n",
    "plt.title('logistic function')"
   ]
  },
  {
   "cell_type": "markdown",
   "metadata": {
    "id": "bbPV2xq14JFG"
   },
   "source": [
    "```\n",
    "#logistic\n",
    "x [N,D]\n",
    "w [D]\n",
    "x@w [N]\n",
    "logistic(x@w) [N]\n",
    "\n",
    "#softmax\n",
    "x [N,D]  R^D->R^C\n",
    "w [D,C]\n",
    "logits = x@w [N,C] \n",
    "logits = logits - np.max(logits, axis=1)\n",
    "softmax[j,i] = exp(logits[j,i])/{np.sum(exp(logits), axis=1)+eps}\n",
    "softmax(x@w) [N,C]\n",
    "```"
   ]
  },
  {
   "cell_type": "markdown",
   "metadata": {
    "id": "dHK9KN_zfYCa"
   },
   "source": [
    "## Cost function\n",
    "To fit our model $f_w$ to the data $\\mathcal{D} = \\{x^{(1)}, \\ldots, x^{(N)}\\}$, we maximize the **logarithm of the conditional likelihood**:\n",
    "\n",
    "$$\n",
    "\\ell(w; \\mathcal{D}) = \\sum_n \\log \\mathrm{Bernoulli}(y^{(n)} | \\sigma({x^{(n)}}^\\top w)) = \\sum_n y^{(n)} \\log \\sigma({x^{(n)}}^\\top w)) + (1-y^{(n)}) \\log (1-\\sigma({x^{(n)}}^\\top w)))\n",
    "$$\n",
    "\n",
    "by substituting the definition of logistic function in the equation above, and minimizing the **negative** of the log-likelihood, which is called the **cost function**,\n",
    "we get\n",
    "\n",
    "$$\n",
    "J(w) = \\sum_n y^{(n)} \\log(1+e^{-x w^\\top}) + (1-y^{(n)}) \\log(1+e^{x w^\\top})\n",
    "$$\n",
    "\n",
    "In practice we use mean rather than sum over data points."
   ]
  },
  {
   "cell_type": "code",
   "execution_count": 7,
   "metadata": {
    "id": "4yF5vdWKfYCb"
   },
   "outputs": [],
   "source": [
    "def cost_fn(x, y, w):\n",
    "    N, D = x.shape                                                       \n",
    "    z = np.dot(x, w)\n",
    "    J = np.mean(y * np.log1p(np.exp(-z)) + (1-y) * np.log1p(np.exp(z)))  #log1p calculates log(1+x) to remove floating point inaccuracies \n",
    "    return J"
   ]
  },
  {
   "cell_type": "markdown",
   "metadata": {
    "id": "qMMdHSOQfYCd"
   },
   "source": [
    "## Minimizing the cost using gradient descent\n",
    "To minimize the cost we use gradient descent: start from some initial assignment to the parameters $w$, and at each iteration take a small step in the opposite direction of the *gradient*. The gradient of the cost function above is given by:\n",
    "\n",
    "$$\n",
    "\\frac{\\partial}{\\partial w_d} J(w) =\\sum_n - y^{(n)} x^{(n)}_d \\frac{e^{-w^\\top x^{(n)}}}{1 + e^{-w^\\top x^{(n)}}} +x^{(n)}_d (1- y^{(n)}) \\frac{e^{w^\\top x^{(n)}}}{1 + e^{w^\\top x^{(n)}}} = \\sum_n - x^{(n)}_d y^{(n)} (1-\\hat{y}^{(n)})+ x^{(n)}_d (1- y^{(n)}) \\hat{y}^{(n)} = x^{(n)}_d (\\hat{y}^{(n)} - y^{(n)}) \n",
    "$$\n",
    "Since in practice we divide the cost by $N$, we have to the same for the gradient; see the implementation below."
   ]
  },
  {
   "cell_type": "code",
   "execution_count": 8,
   "metadata": {
    "id": "I14oPfQMfYCe"
   },
   "outputs": [],
   "source": [
    "def gradient(self, x, y):\n",
    "    N,D = x.shape\n",
    "    yh = logistic(np.dot(x, self.w))    # predictions  size N\n",
    "    grad = np.dot(x.T, yh - y)/N        # divide by N because cost is mean over N points\n",
    "    return grad                         # size D"
   ]
  },
  {
   "cell_type": "markdown",
   "metadata": {
    "id": "F94XLCBvfYCg"
   },
   "source": [
    "## Logistic regression class\n",
    "Now we are ready to implement the logistic regression class with the usual `fit` and `predict` methods. Here, the `fit` method implements gradient descent."
   ]
  },
  {
   "cell_type": "code",
   "execution_count": 9,
   "metadata": {
    "id": "zmssPL_68zZi"
   },
   "outputs": [],
   "source": [
    "import time\n",
    "import pandas as pd\n",
    "from sklearn.metrics import accuracy_score"
   ]
  },
  {
   "cell_type": "code",
   "execution_count": 347,
   "metadata": {
    "id": "IhCCw4PNfYCh"
   },
   "outputs": [],
   "source": [
    "class TrainingResults:\n",
    "        \n",
    "        def __init__(self, lr_model, batch_size, acc_list_it, acc_list_time, acc_list_epoch, grad_list_it, grad_list_time, grad_list_epoch, final_grad_norm, total_iter, time):\n",
    "            self.lr_model = lr_model\n",
    "            self.batch_size = batch_size\n",
    "            self.acc_list_it = acc_list_it\n",
    "            self.acc_list_time = acc_list_time\n",
    "            self.acc_list_epoch = acc_list_epoch\n",
    "            self.grad_list_it = grad_list_it\n",
    "            self.grad_list_time = grad_list_time\n",
    "            self.grad_list_epoch = grad_list_epoch\n",
    "            self.final_grad_norm = final_grad_norm\n",
    "            self.total_iter = total_iter\n",
    "            self.time = time\n",
    "            \n",
    "        def __repr__(self):\n",
    "            return f'''\\nBatch size: {self.batch_size}\\n\n",
    "            Weights: {self.lr_model.w}\\n\n",
    "            Final gradient norm: {self.final_grad_norm}\\n\n",
    "            Elapsed Time: {self.time}\\n\n",
    "            Total iterations: {self.total_iter}\n",
    "            Total epochs: {len(self.acc_list_epoch)}'''\n",
    "            \n",
    "class LogisticRegression:\n",
    "    \n",
    "    def __init__(self, add_bias=True, learning_rate=.1, epsilon=1e-4, max_iters=1e5, verbose=False):\n",
    "        self.add_bias = add_bias\n",
    "        self.learning_rate = learning_rate\n",
    "        self.epsilon = epsilon                        #to get the tolerance for the norm of gradients \n",
    "        self.max_iters = max_iters                    #maximum number of iteration of gradient descent\n",
    "        self.verbose = verbose\n",
    "        \n",
    "    def fit(self, x, y, batch_size=-1):\n",
    "        if batch_size  == -1:\n",
    "            batch_size = len(x)\n",
    "        start_time = time.process_time()\n",
    "        if x.ndim == 1:\n",
    "            x = x[:, None] # 1d to 2d\n",
    "        if self.add_bias:\n",
    "            N = x.shape[0]\n",
    "            x = np.column_stack([x,np.ones(N)]) # adding a new column with N rows\n",
    "        N,D = x.shape\n",
    "        self.w = np.zeros(D)\n",
    "        g = np.inf \n",
    "        t = 0\n",
    "        # the code snippet below is for gradient descent\n",
    "        # step when exceeding max iters or gradient becomes too small\n",
    "        while np.linalg.norm(g) > self.epsilon and t < self.max_iters:\n",
    "            rand_index = np.random.choice(len(x), batch_size, replace=False)\n",
    "            batch_x = x[rand_index]\n",
    "            batch_y = y[rand_index]\n",
    "            g = self.gradient(batch_x, batch_y)\n",
    "            self.w = self.w - self.learning_rate * g \n",
    "            t += 1\n",
    "        \n",
    "        elapsed_time = time.process_time() - start_time\n",
    "\n",
    "        if self.verbose:\n",
    "            print(f'terminated after {t} iterations, with norm of the gradient equal to {np.linalg.norm(g)}')\n",
    "            print(f'the weight found: {self.w}')\n",
    "            print(f'time elapsed: {elapsed_time: .2f} seconds')\n",
    "            print()\n",
    "        return self\n",
    "    \n",
    "    def fit_for_vis(self, x, y, val_X, val_y, itv=1e3, batch_size=-1, max_epochs=-1, momentum=0):\n",
    "        if batch_size  == -1:\n",
    "            batch_size = len(x)\n",
    "        start_time = time.process_time()\n",
    "        if x.ndim == 1:\n",
    "            x = x[:, None]\n",
    "        if self.add_bias:\n",
    "            N = x.shape[0]\n",
    "            x = np.column_stack([x,np.ones(N)])\n",
    "        N,D = x.shape\n",
    "        print(x.shape)\n",
    "        self.w = np.zeros(D)\n",
    "        g = np.inf \n",
    "        t = 0\n",
    "\n",
    "        acc_list_it = []\n",
    "        acc_list_time = []\n",
    "        grad_list_it = []\n",
    "        grad_list_time = []\n",
    "        acc_list_epoch = []\n",
    "        grad_list_epoch = []\n",
    "        time_itv = 0\n",
    "        elapsed_time = 0\n",
    "        reduced_x = x\n",
    "        reduced_y = y\n",
    "        epoch_done = False\n",
    "        num_epochs = 0\n",
    "        change = 0\n",
    "        if max_epochs != -1:\n",
    "            by_iters = False\n",
    "            by_epochs = True\n",
    "        else:\n",
    "            by_iters = True\n",
    "            by_epochs = False\n",
    "\n",
    "        # the code snippet below is for gradient descent\n",
    "        while np.linalg.norm(g) > self.epsilon and (by_epochs or t < self.max_iters) and (by_iters or num_epochs < max_epochs) :\n",
    "            if t % itv == 0:\n",
    "                val_yh = (self.predict(val_X) > 0.5).astype('int')\n",
    "                acc_list_it.append(accuracy_score(val_y, val_yh))\n",
    "                grad_list_it.append(np.linalg.norm(g))\n",
    "            if elapsed_time > 15.0 * time_itv:\n",
    "                val_yh = (self.predict(val_X) > 0.5).astype('int')\n",
    "                acc_list_time.append(accuracy_score(val_y, val_yh))\n",
    "                grad_list_time.append(np.linalg.norm(g))\n",
    "                time_itv += 1\n",
    "            if batch_size < len(reduced_x):\n",
    "                rand_index = np.random.choice(len(reduced_x), batch_size, replace=False)\n",
    "                batch_x = reduced_x[rand_index]\n",
    "                batch_y = reduced_y.iloc[rand_index]\n",
    "                reduced_x = np.delete(reduced_x, rand_index, axis=0)\n",
    "                reduced_y = reduced_y.drop(batch_y.index)\n",
    "                g = self.gradient(batch_x, batch_y)\n",
    "            else:\n",
    "                g = self.gradient(reduced_x, reduced_y)\n",
    "                reduced_x = x\n",
    "                reduced_y = y\n",
    "                val_yh = (self.predict(val_X) > 0.5).astype('int')\n",
    "                acc_list_epoch.append(accuracy_score(val_y, val_yh))\n",
    "                grad_list_epoch.append(np.linalg.norm(g))\n",
    "                num_epochs += 1\n",
    "            change = momentum * change + (1 - momentum) * g\n",
    "            self.w = self.w - self.learning_rate * change\n",
    "            t += 1\n",
    "            elapsed_time = time.process_time() - start_time\n",
    "        if self.verbose:\n",
    "            print(f'learning rate: {self.learning_rate}')\n",
    "            print(f'batch size: {batch_size}')\n",
    "            print(f'terminated after {t} iterations, with norm of the gradient equal to {np.linalg.norm(g)}')\n",
    "            print(f'the weight found: {self.w}')\n",
    "            print(f'time elapsed: {elapsed_time: .2f} seconds')\n",
    "            print()\n",
    "            \n",
    "        result = TrainingResults(self, batch_size, acc_list_it, acc_list_time, acc_list_epoch, grad_list_it, grad_list_time, grad_list_epoch, np.linalg.norm(g), t, elapsed_time)\n",
    "\n",
    "        return result\n",
    "\n",
    "    def predict(self, x):\n",
    "        if x.ndim == 1:\n",
    "            x = x[:, None]\n",
    "        Nt = x.shape[0]\n",
    "        if self.add_bias:\n",
    "            x = np.column_stack([x,np.ones(Nt)])\n",
    "        yh = logistic(np.dot(x,self.w))            #predict output\n",
    "        return yh\n",
    "\n",
    "LogisticRegression.gradient = gradient             #initialize the gradient method of the LogisticRegression class with gradient function"
   ]
  },
  {
   "cell_type": "markdown",
   "metadata": {
    "id": "XD6Mv0_RfYCt"
   },
   "source": [
    "we see that the model successfully fits the training data. If we run the optimization for long enough the weights will grow large (in absolute value) so as to make the predicted probabilities for the data-points close to the decidion boundary (x=2) close to zero and one.\n"
   ]
  },
  {
   "cell_type": "markdown",
   "metadata": {
    "id": "JfDlLVOP3GVJ"
   },
   "source": [
    "# Code added"
   ]
  },
  {
   "cell_type": "code",
   "execution_count": 4,
   "metadata": {
    "id": "LCvw4QR3XKQW"
   },
   "outputs": [],
   "source": [
    "from matplotlib import pyplot as plt\n",
    "from joblib import Parallel, delayed"
   ]
  },
  {
   "cell_type": "code",
   "execution_count": null,
   "metadata": {
    "colab": {
     "base_uri": "https://localhost:8080/"
    },
    "id": "9dfc3SPLVDvx",
    "outputId": "7b2b5b65-4c0b-4761-b741-89ad43092c64"
   },
   "outputs": [
    {
     "name": "stdout",
     "output_type": "stream",
     "text": [
      "Mounted at /content/drive\n"
     ]
    }
   ],
   "source": [
    "# from google.colab import drive\n",
    "# drive.mount('/content/drive')\n",
    "# train_df = pd.read_csv('/content/drive/MyDrive/COMP551/mini2/diabetes/diabetes_train.csv')\n",
    "# val_df = pd.read_csv('/content/drive/MyDrive/COMP551/mini2/diabetes/diabetes_val.csv')\n",
    "# test_df = pd.read_csv('/content/drive/MyDrive/COMP551/mini2/diabetes/diabetes_test.csv')"
   ]
  },
  {
   "cell_type": "code",
   "execution_count": 249,
   "metadata": {
    "id": "Q5i5AbPN3EZD"
   },
   "outputs": [],
   "source": [
    "train_df = pd.read_csv('./diabetes/diabetes_train.csv')\n",
    "val_df = pd.read_csv('./diabetes/diabetes_val.csv')\n",
    "test_df = pd.read_csv('./diabetes/diabetes_test.csv')\n",
    "# x = train_df\n",
    "# N = x.shape[0]\n",
    "# x = np.column_stack([x,np.ones(N)])\n",
    "# reduced_x = x\n",
    "# rand_index = np.random.choice(len(reduced_x), 8, replace=False)\n",
    "# print(rand_index)\n",
    "# batch_x = reduced_x[rand_index]\n",
    "# print(reduced_x.shape)\n",
    "# reduced_x = np.delete(reduced_x, rand_index, axis=0)\n",
    "# print(batch_x.shape)\n",
    "# print(reduced_x.shape)"
   ]
  },
  {
   "cell_type": "code",
   "execution_count": 13,
   "metadata": {
    "colab": {
     "base_uri": "https://localhost:8080/"
    },
    "id": "YpnE32as3gr2",
    "outputId": "5c813ede-ffc5-4161-86f3-7076941a08f0"
   },
   "outputs": [
    {
     "data": {
      "text/plain": [
       "0    65\n",
       "1    35\n",
       "Name: Outcome, dtype: int64"
      ]
     },
     "execution_count": 13,
     "metadata": {},
     "output_type": "execute_result"
    }
   ],
   "source": [
    "val_df.Outcome.value_counts()"
   ]
  },
  {
   "cell_type": "markdown",
   "metadata": {
    "id": "MNHggSGxBOv9"
   },
   "source": [
    "## Feature-Target split"
   ]
  },
  {
   "cell_type": "code",
   "execution_count": 12,
   "metadata": {
    "id": "RaTc5_ZQ3oT-"
   },
   "outputs": [],
   "source": [
    "# split into feature and target\n",
    "train_X =  train_df.drop('Outcome', axis=1)\n",
    "train_y = train_df.loc[:, 'Outcome']\n",
    "val_X = val_df.drop('Outcome', axis=1)\n",
    "val_y = val_df.loc[:, 'Outcome']\n",
    "test_X = test_df.drop('Outcome', axis=1)\n",
    "test_y = test_df.loc[:, 'Outcome']"
   ]
  },
  {
   "cell_type": "code",
   "execution_count": 42,
   "metadata": {
    "id": "i6m8gTcYULPo"
   },
   "outputs": [],
   "source": [
    "def get_acc_list(lr, max_iters, itv):\n",
    "    model = LogisticRegression(verbose=True, learning_rate=lr, max_iters=max_iters)\n",
    "    acc_list, _, _, _ = model.fit_for_vis(train_X, train_y, val_X, val_y, itv)\n",
    "    return acc_list"
   ]
  },
  {
   "cell_type": "markdown",
   "metadata": {
    "id": "VblHh0yhBUQI"
   },
   "source": [
    "## Visualization"
   ]
  },
  {
   "cell_type": "markdown",
   "metadata": {
    "id": "PDBxGfXnBeBD"
   },
   "source": [
    "Try the following learning rates: [0.2, 1e-1, 1e-2, 1e-3, 1e-4, 1e-5, 1e-6, 1e-7]"
   ]
  },
  {
   "cell_type": "code",
   "execution_count": 14,
   "metadata": {
    "id": "ofNlrGF_Wp0p"
   },
   "outputs": [],
   "source": [
    "# configuration\n",
    "max_iter = 1e6\n",
    "itv = int(1e3)\n",
    "lr_list = [0.2, 1e-1, 1e-2, 1e-3, 1e-4, 1e-5, 1e-6, 1e-7]"
   ]
  },
  {
   "cell_type": "code",
   "execution_count": 15,
   "metadata": {
    "colab": {
     "base_uri": "https://localhost:8080/"
    },
    "id": "MOhQpv8FfesY",
    "outputId": "79410c29-db6b-460f-ecd2-a9dff6ccfe8a"
   },
   "outputs": [
    {
     "ename": "KeyboardInterrupt",
     "evalue": "",
     "output_type": "error",
     "traceback": [
      "\u001b[0;31m---------------------------------------------------------------------------\u001b[0m",
      "\u001b[0;31mKeyboardInterrupt\u001b[0m                         Traceback (most recent call last)",
      "\u001b[0;32m/tmp/ipykernel_39486/300007500.py\u001b[0m in \u001b[0;36m<module>\u001b[0;34m\u001b[0m\n\u001b[1;32m      1\u001b[0m \u001b[0;31m# parallerize training\u001b[0m\u001b[0;34m\u001b[0m\u001b[0;34m\u001b[0m\u001b[0;34m\u001b[0m\u001b[0m\n\u001b[1;32m      2\u001b[0m \u001b[0;31m# accs_list = Parallel(n_jobs=-1, verbose=10)(delayed(get_acc_list)(i, max_iter, itv) for i in lr_list)\u001b[0m\u001b[0;34m\u001b[0m\u001b[0;34m\u001b[0m\u001b[0;34m\u001b[0m\u001b[0m\n\u001b[0;32m----> 3\u001b[0;31m \u001b[0maccs_list\u001b[0m \u001b[0;34m=\u001b[0m \u001b[0;34m[\u001b[0m\u001b[0mget_acc_list\u001b[0m\u001b[0;34m(\u001b[0m\u001b[0mlr_list\u001b[0m\u001b[0;34m[\u001b[0m\u001b[0;36m4\u001b[0m\u001b[0;34m]\u001b[0m\u001b[0;34m,\u001b[0m \u001b[0mmax_iter\u001b[0m\u001b[0;34m,\u001b[0m \u001b[0mitv\u001b[0m\u001b[0;34m)\u001b[0m\u001b[0;34m]\u001b[0m\u001b[0;34m\u001b[0m\u001b[0;34m\u001b[0m\u001b[0m\n\u001b[0m",
      "\u001b[0;32m/tmp/ipykernel_39486/2297466722.py\u001b[0m in \u001b[0;36mget_acc_list\u001b[0;34m(lr, max_iters, itv)\u001b[0m\n\u001b[1;32m      1\u001b[0m \u001b[0;32mdef\u001b[0m \u001b[0mget_acc_list\u001b[0m\u001b[0;34m(\u001b[0m\u001b[0mlr\u001b[0m\u001b[0;34m,\u001b[0m \u001b[0mmax_iters\u001b[0m\u001b[0;34m,\u001b[0m \u001b[0mitv\u001b[0m\u001b[0;34m)\u001b[0m\u001b[0;34m:\u001b[0m\u001b[0;34m\u001b[0m\u001b[0;34m\u001b[0m\u001b[0m\n\u001b[1;32m      2\u001b[0m     \u001b[0mmodel\u001b[0m \u001b[0;34m=\u001b[0m \u001b[0mLogisticRegression\u001b[0m\u001b[0;34m(\u001b[0m\u001b[0mverbose\u001b[0m\u001b[0;34m=\u001b[0m\u001b[0;32mTrue\u001b[0m\u001b[0;34m,\u001b[0m \u001b[0mlearning_rate\u001b[0m\u001b[0;34m=\u001b[0m\u001b[0mlr\u001b[0m\u001b[0;34m,\u001b[0m \u001b[0mmax_iters\u001b[0m\u001b[0;34m=\u001b[0m\u001b[0mmax_iters\u001b[0m\u001b[0;34m)\u001b[0m\u001b[0;34m\u001b[0m\u001b[0;34m\u001b[0m\u001b[0m\n\u001b[0;32m----> 3\u001b[0;31m     \u001b[0macc_list\u001b[0m \u001b[0;34m=\u001b[0m \u001b[0mmodel\u001b[0m\u001b[0;34m.\u001b[0m\u001b[0mfit_for_vis\u001b[0m\u001b[0;34m(\u001b[0m\u001b[0mtrain_X\u001b[0m\u001b[0;34m,\u001b[0m \u001b[0mtrain_y\u001b[0m\u001b[0;34m,\u001b[0m \u001b[0mval_X\u001b[0m\u001b[0;34m,\u001b[0m \u001b[0mval_y\u001b[0m\u001b[0;34m,\u001b[0m \u001b[0mitv\u001b[0m\u001b[0;34m)\u001b[0m\u001b[0;34m\u001b[0m\u001b[0;34m\u001b[0m\u001b[0m\n\u001b[0m\u001b[1;32m      4\u001b[0m     \u001b[0;32mreturn\u001b[0m \u001b[0macc_list\u001b[0m\u001b[0;34m\u001b[0m\u001b[0;34m\u001b[0m\u001b[0m\n",
      "\u001b[0;32m/tmp/ipykernel_39486/407954928.py\u001b[0m in \u001b[0;36mfit_for_vis\u001b[0;34m(self, x, y, val_X, val_y, itv, batch_size)\u001b[0m\n\u001b[1;32m     60\u001b[0m                 \u001b[0mval_yh\u001b[0m \u001b[0;34m=\u001b[0m \u001b[0;34m(\u001b[0m\u001b[0mself\u001b[0m\u001b[0;34m.\u001b[0m\u001b[0mpredict\u001b[0m\u001b[0;34m(\u001b[0m\u001b[0mval_X\u001b[0m\u001b[0;34m)\u001b[0m \u001b[0;34m>\u001b[0m \u001b[0;36m0.5\u001b[0m\u001b[0;34m)\u001b[0m\u001b[0;34m.\u001b[0m\u001b[0mastype\u001b[0m\u001b[0;34m(\u001b[0m\u001b[0;34m'int'\u001b[0m\u001b[0;34m)\u001b[0m\u001b[0;34m\u001b[0m\u001b[0;34m\u001b[0m\u001b[0m\n\u001b[1;32m     61\u001b[0m                 \u001b[0macc_list\u001b[0m\u001b[0;34m.\u001b[0m\u001b[0mappend\u001b[0m\u001b[0;34m(\u001b[0m\u001b[0maccuracy_score\u001b[0m\u001b[0;34m(\u001b[0m\u001b[0mval_y\u001b[0m\u001b[0;34m,\u001b[0m \u001b[0mval_yh\u001b[0m\u001b[0;34m)\u001b[0m\u001b[0;34m)\u001b[0m\u001b[0;34m\u001b[0m\u001b[0;34m\u001b[0m\u001b[0m\n\u001b[0;32m---> 62\u001b[0;31m             \u001b[0mrand_index\u001b[0m \u001b[0;34m=\u001b[0m \u001b[0mnp\u001b[0m\u001b[0;34m.\u001b[0m\u001b[0mrandom\u001b[0m\u001b[0;34m.\u001b[0m\u001b[0mchoice\u001b[0m\u001b[0;34m(\u001b[0m\u001b[0mlen\u001b[0m\u001b[0;34m(\u001b[0m\u001b[0mx\u001b[0m\u001b[0;34m)\u001b[0m\u001b[0;34m,\u001b[0m \u001b[0mbatch_size\u001b[0m\u001b[0;34m,\u001b[0m \u001b[0mreplace\u001b[0m\u001b[0;34m=\u001b[0m\u001b[0;32mFalse\u001b[0m\u001b[0;34m)\u001b[0m\u001b[0;34m\u001b[0m\u001b[0;34m\u001b[0m\u001b[0m\n\u001b[0m\u001b[1;32m     63\u001b[0m             \u001b[0mbatch_x\u001b[0m \u001b[0;34m=\u001b[0m \u001b[0mx\u001b[0m\u001b[0;34m[\u001b[0m\u001b[0mrand_index\u001b[0m\u001b[0;34m]\u001b[0m\u001b[0;34m\u001b[0m\u001b[0;34m\u001b[0m\u001b[0m\n\u001b[1;32m     64\u001b[0m             \u001b[0mbatch_y\u001b[0m \u001b[0;34m=\u001b[0m \u001b[0my\u001b[0m\u001b[0;34m[\u001b[0m\u001b[0mrand_index\u001b[0m\u001b[0;34m]\u001b[0m\u001b[0;34m\u001b[0m\u001b[0;34m\u001b[0m\u001b[0m\n",
      "\u001b[0;32mmtrand.pyx\u001b[0m in \u001b[0;36mnumpy.random.mtrand.RandomState.choice\u001b[0;34m()\u001b[0m\n",
      "\u001b[0;32m<__array_function__ internals>\u001b[0m in \u001b[0;36mprod\u001b[0;34m(*args, **kwargs)\u001b[0m\n",
      "\u001b[0;32m~/miniconda3/lib/python3.9/site-packages/numpy/core/fromnumeric.py\u001b[0m in \u001b[0;36mprod\u001b[0;34m(a, axis, dtype, out, keepdims, initial, where)\u001b[0m\n\u001b[1;32m   3028\u001b[0m     \u001b[0;36m10\u001b[0m\u001b[0;34m\u001b[0m\u001b[0;34m\u001b[0m\u001b[0m\n\u001b[1;32m   3029\u001b[0m     \"\"\"\n\u001b[0;32m-> 3030\u001b[0;31m     return _wrapreduction(a, np.multiply, 'prod', axis, dtype, out,\n\u001b[0m\u001b[1;32m   3031\u001b[0m                           keepdims=keepdims, initial=initial, where=where)\n\u001b[1;32m   3032\u001b[0m \u001b[0;34m\u001b[0m\u001b[0m\n",
      "\u001b[0;32m~/miniconda3/lib/python3.9/site-packages/numpy/core/fromnumeric.py\u001b[0m in \u001b[0;36m_wrapreduction\u001b[0;34m(obj, ufunc, method, axis, dtype, out, **kwargs)\u001b[0m\n\u001b[1;32m     69\u001b[0m \u001b[0;34m\u001b[0m\u001b[0m\n\u001b[1;32m     70\u001b[0m \u001b[0;32mdef\u001b[0m \u001b[0m_wrapreduction\u001b[0m\u001b[0;34m(\u001b[0m\u001b[0mobj\u001b[0m\u001b[0;34m,\u001b[0m \u001b[0mufunc\u001b[0m\u001b[0;34m,\u001b[0m \u001b[0mmethod\u001b[0m\u001b[0;34m,\u001b[0m \u001b[0maxis\u001b[0m\u001b[0;34m,\u001b[0m \u001b[0mdtype\u001b[0m\u001b[0;34m,\u001b[0m \u001b[0mout\u001b[0m\u001b[0;34m,\u001b[0m \u001b[0;34m**\u001b[0m\u001b[0mkwargs\u001b[0m\u001b[0;34m)\u001b[0m\u001b[0;34m:\u001b[0m\u001b[0;34m\u001b[0m\u001b[0;34m\u001b[0m\u001b[0m\n\u001b[0;32m---> 71\u001b[0;31m     passkwargs = {k: v for k, v in kwargs.items()\n\u001b[0m\u001b[1;32m     72\u001b[0m                   if v is not np._NoValue}\n\u001b[1;32m     73\u001b[0m \u001b[0;34m\u001b[0m\u001b[0m\n",
      "\u001b[0;32m~/miniconda3/lib/python3.9/site-packages/numpy/core/fromnumeric.py\u001b[0m in \u001b[0;36m<dictcomp>\u001b[0;34m(.0)\u001b[0m\n\u001b[1;32m     70\u001b[0m \u001b[0;32mdef\u001b[0m \u001b[0m_wrapreduction\u001b[0m\u001b[0;34m(\u001b[0m\u001b[0mobj\u001b[0m\u001b[0;34m,\u001b[0m \u001b[0mufunc\u001b[0m\u001b[0;34m,\u001b[0m \u001b[0mmethod\u001b[0m\u001b[0;34m,\u001b[0m \u001b[0maxis\u001b[0m\u001b[0;34m,\u001b[0m \u001b[0mdtype\u001b[0m\u001b[0;34m,\u001b[0m \u001b[0mout\u001b[0m\u001b[0;34m,\u001b[0m \u001b[0;34m**\u001b[0m\u001b[0mkwargs\u001b[0m\u001b[0;34m)\u001b[0m\u001b[0;34m:\u001b[0m\u001b[0;34m\u001b[0m\u001b[0;34m\u001b[0m\u001b[0m\n\u001b[1;32m     71\u001b[0m     passkwargs = {k: v for k, v in kwargs.items()\n\u001b[0;32m---> 72\u001b[0;31m                   if v is not np._NoValue}\n\u001b[0m\u001b[1;32m     73\u001b[0m \u001b[0;34m\u001b[0m\u001b[0m\n\u001b[1;32m     74\u001b[0m     \u001b[0;32mif\u001b[0m \u001b[0mtype\u001b[0m\u001b[0;34m(\u001b[0m\u001b[0mobj\u001b[0m\u001b[0;34m)\u001b[0m \u001b[0;32mis\u001b[0m \u001b[0;32mnot\u001b[0m \u001b[0mmu\u001b[0m\u001b[0;34m.\u001b[0m\u001b[0mndarray\u001b[0m\u001b[0;34m:\u001b[0m\u001b[0;34m\u001b[0m\u001b[0;34m\u001b[0m\u001b[0m\n",
      "\u001b[0;31mKeyboardInterrupt\u001b[0m: "
     ]
    }
   ],
   "source": [
    "# parallerize training\n",
    "# accs_list = Parallel(n_jobs=-1, verbose=10)(delayed(get_acc_list)(i, max_iter, itv) for i in lr_list)\n",
    "accs_list = [get_acc_list(lr_list[4], max_iter, itv)]"
   ]
  },
  {
   "cell_type": "code",
   "execution_count": null,
   "metadata": {
    "colab": {
     "base_uri": "https://localhost:8080/",
     "height": 294
    },
    "id": "Nh5453iblJOL",
    "outputId": "a647a8d0-7095-43fe-9fd3-d9ec12d52aff"
   },
   "outputs": [
    {
     "data": {
      "image/png": "[encoded data removed]",
      "text/plain": [
       "<Figure size 432x288 with 1 Axes>"
      ]
     },
     "metadata": {
      "needs_background": "light"
     },
     "output_type": "display_data"
    }
   ],
   "source": [
    "# Create plot\n",
    "length = len(accs_list[0])\n",
    "row = list(range(1, length*itv, itv))\n",
    "[plt.plot(row, accs_list[i]) for i in range(len(accs_list))]\n",
    "plt.legend(['0.2', '1e-1', '1e-2', '1e-3', '1e-4', '1e-5', '1e-6', '1e-7'],\n",
    "           bbox_to_anchor=(1.04,1))\n",
    "plt.grid()\n",
    "plt.title(\"Change in validation accuracy over iterations\")\n",
    "plt.savefig('/content/drive/MyDrive/COMP551/mini2/figures/lrs_compare_max_itrs=1e6.png', bbox_inches=\"tight\")"
   ]
  },
  {
   "cell_type": "markdown",
   "metadata": {
    "id": "kNV0275wudGO"
   },
   "source": [
    "Now, increase the max_iters and try again with [1e-4, 1e-5, 1e-6, 1e-7]."
   ]
  },
  {
   "cell_type": "code",
   "execution_count": 104,
   "metadata": {
    "id": "JxAxXSRcuVHG"
   },
   "outputs": [],
   "source": [
    "# configuration\n",
    "new_max_iter = 3*(1e6)\n",
    "new_itv = int(1e4)\n",
    "new_lr_list = [1e-4, 1e-5, 1e-6, 1e-7]"
   ]
  },
  {
   "cell_type": "code",
   "execution_count": null,
   "metadata": {
    "colab": {
     "base_uri": "https://localhost:8080/"
    },
    "id": "pA1OAHJBvoDL",
    "outputId": "75d6385b-91e2-48c8-a2de-0e4577db3bc8"
   },
   "outputs": [
    {
     "name": "stdout",
     "output_type": "stream",
     "text": [
      "terminated after 3000000 iterations, with norm of the gradient equal to 0.009055883681953803\n",
      "the weight found: [ 1.32319999e-01  2.81401475e-02 -1.66189784e-02 -2.77309928e-03\n",
      "  1.51703686e-04  5.39611332e-02  6.17168404e-01  3.58746135e-03\n",
      " -5.56318969e+00]\n",
      "time elapsed:  742.58 seconds\n",
      "\n",
      "\n",
      "terminated after 3000000 iterations, with norm of the gradient equal to 0.030759426504308147\n",
      "the weight found: [ 0.12950679  0.01574091 -0.02754224 -0.00150766  0.00131935  0.00407726\n",
      "  0.17113651 -0.0096257  -0.98839465]\n",
      "time elapsed:  744.93 seconds\n",
      "\n",
      "\n",
      "terminated after 3000000 iterations, with norm of the gradient equal to 0.03569813470454591\n",
      "the weight found: [ 0.13127481  0.01373776 -0.03063641 -0.00100074  0.00157156 -0.00478922\n",
      "  0.02007397 -0.01208031 -0.10658963]\n",
      "time elapsed:  741.24 seconds\n",
      "\n",
      "\n",
      "terminated after 3000000 iterations, with norm of the gradient equal to 0.136915677637244\n",
      "the weight found: [ 0.05221273  0.01255442 -0.0305826  -0.00097407  0.00148354 -0.00601824\n",
      "  0.00166148  0.00064208 -0.01105552]\n",
      "time elapsed:  743.34 seconds\n",
      "\n",
      "\n"
     ]
    }
   ],
   "source": [
    "new_accs_list = []\n",
    "for i in range(len(new_lr_list)):\n",
    "    result = get_acc_list(new_lr_list[i], new_max_iter, new_itv)\n",
    "    print('\\n')\n",
    "    new_accs_list.append(result)"
   ]
  },
  {
   "cell_type": "code",
   "execution_count": null,
   "metadata": {
    "colab": {
     "base_uri": "https://localhost:8080/",
     "height": 294
    },
    "id": "RzP8cC80w7Bv",
    "outputId": "5e58eae0-f695-4f5b-dd47-26d30cce0056"
   },
   "outputs": [
    {
     "data": {
      "image/png": "[encoded data removed]",
      "text/plain": [
       "<Figure size 432x288 with 1 Axes>"
      ]
     },
     "metadata": {
      "needs_background": "light"
     },
     "output_type": "display_data"
    }
   ],
   "source": [
    "# Create plot\n",
    "new_length = len(new_accs_list[0])\n",
    "new_row = list(range(0, new_length*new_itv, new_itv))\n",
    "[plt.plot(new_row, new_accs_list[i]) for i in range(len(new_accs_list))]\n",
    "plt.legend(['1e-4', '1e-5', '1e-6', '1e-7'],\n",
    "           bbox_to_anchor=(1.04,1))\n",
    "plt.grid()\n",
    "plt.title(\"Change in validation accuracy over iterations\")\n",
    "plt.savefig('/content/drive/MyDrive/COMP551/mini2/figures/lrs_compare_max_itrs=3_1e6.png',\n",
    "            bbox_inches=\"tight\")"
   ]
  },
  {
   "cell_type": "code",
   "execution_count": null,
   "metadata": {
    "id": "LfJTmKM_GDQQ"
   },
   "outputs": [],
   "source": []
  },
  {
   "cell_type": "markdown",
   "metadata": {
    "id": "OBcItMgNQPAo"
   },
   "source": [
    "## Best Configuration\n",
    "From the plot above:\n",
    "\n",
    "max_iters = 1.8e6\n",
    "\n",
    "lr = 1e-4\n",
    "\n",
    "---------------------------\n",
    "epsilon=1e-4 (default value) but the norm of the gradient didn't decrease below 1e-4 in my experiments, so this parameter is not tuned."
   ]
  },
  {
   "cell_type": "code",
   "execution_count": 345,
   "metadata": {},
   "outputs": [],
   "source": [
    "def get_training_results_batch(lr, max_iters, itv, batch_size, max_epochs, momentum):\n",
    "    model = LogisticRegression(verbose=True, learning_rate=lr, max_iters=max_iters)\n",
    "    print(\"train x\", train_X.shape)\n",
    "    return model.fit_for_vis(train_X, train_y, val_X, val_y, itv, batch_size, max_epochs, momentum)\n",
    "\n",
    "def same_length_lsts(results):\n",
    "    max_time_num_itv = 0\n",
    "    for r in results:\n",
    "        if len(r.acc_list_time) > max_time_num_itv:\n",
    "            max_time_num_itv = len(r.acc_list_time)\n",
    "    for r in results:\n",
    "        if len(r.acc_list_time) < max_time_num_itv:\n",
    "            r.acc_list_time += [r.acc_list_time[-1]] * (max_time_num_itv - len(r.acc_list_time))\n",
    "        if len(r.grad_list_time) < max_time_num_itv:\n",
    "            r.grad_list_time += [r.grad_list_time[-1]] * (max_time_num_itv - len(r.grad_list_time))\n",
    "    return results"
   ]
  },
  {
   "cell_type": "code",
   "execution_count": 342,
   "metadata": {},
   "outputs": [],
   "source": [
    "def plot_epochs(results, num_epochs):\n",
    "    epoch_row = list(range(1, num_epochs + 1))\n",
    "    [plt.plot(epoch_row, results[i].acc_list_epoch) for i in range(len(results))]\n",
    "    plt.legend(batch_sizes, bbox_to_anchor=(1.04, 1))\n",
    "    plt.grid()\n",
    "    plt.title(f\"Change in validation accuracy over iterations by batch size (lr = {learning_rate})\")\n",
    "    plt.savefig('./' + num_epochs + '_acc_epoch_batch')\n",
    "    \n",
    "    \n",
    "def plot_results(results, lr_val):\n",
    "    length = len(results[0].acc_list_it)\n",
    "    it_row = list(range(1, length*itv, itv))\n",
    "    time_row = list(range(0, 15*len(results[0].acc_list_time), 15))\n",
    "    learning_rate = results[0].lr_model.learning_rate\n",
    "    \n",
    "    [plt.plot(it_row, results[i].acc_list_it) for i in range(len(results))]\n",
    "    plt.legend(batch_sizes, bbox_to_anchor=(1.04, 1))\n",
    "    plt.grid()\n",
    "    plt.title(f\"Change in validation accuracy over iterations by batch size (lr = {learning_rate})\")\n",
    "    plt.savefig('./' + lr_val + '_acc_iter_batch')\n",
    "\n",
    "    \n",
    "    [plt.plot(time_row, results[i].acc_list_time) for i in range(len(results))]\n",
    "    plt.legend(batch_sizes, bbox_to_anchor=(1.04, 1))\n",
    "    plt.grid()\n",
    "    plt.title(f\"Speed of accuracy convergence by batch size (lr = {learning_rate})\")\n",
    "    plt.savefig('./figures/' + lr_val + '_acc_speed_batch')\n",
    "\n",
    "\n",
    "    [plt.plot(it_row, results[i].grad_list_it) for i in range(len(results))]\n",
    "    plt.legend(batch_sizes, bbox_to_anchor=(1.04, 1))\n",
    "    plt.grid()\n",
    "    plt.title(f\"Change in gradient over iterations by batch size (lr = {learning_rate})\")\n",
    "    plt.savefig('./figures/' + lr_val + '_grad_iter_batch')\n",
    "\n",
    "    \n",
    "    [plt.plot(time_row, results[i].grad_list_time) for i in range(len(results))]\n",
    "    plt.legend(batch_sizes, bbox_to_anchor=(1.04, 1))\n",
    "    plt.grid()\n",
    "    plt.title(f\"Speed of gradient convergence by batch size (lr = {learning_rate})\")\n",
    "    plt.savefig('./figures/' + lr_val + '_grad_speed_batch')"
   ]
  },
  {
   "cell_type": "code",
   "execution_count": 328,
   "metadata": {
    "scrolled": false
   },
   "outputs": [
    {
     "name": "stdout",
     "output_type": "stream",
     "text": [
      "train x (600, 8)\n",
      "(600, 9)\n",
      "learning rate: 0.0001\n",
      "batch size: 8\n",
      "terminated after 750000 iterations, with norm of the gradient equal to 71.59514752369968\n",
      "the weight found: [ 1.37535649e-01  1.72026341e-02 -2.63698596e-02 -3.20668341e-03\n",
      " -9.26967195e-04  1.51207274e-02  3.37175609e-01 -6.01419193e-03\n",
      " -2.23753295e+00]\n",
      "time elapsed:  565.67 seconds\n",
      "\n",
      "train x (600, 8)\n",
      "(600, 9)\n",
      "learning rate: 0.0001\n",
      "batch size: 16\n",
      "terminated after 380000 iterations, with norm of the gradient equal to 15.48044292269118\n",
      "the weight found: [ 0.13341408  0.01211973 -0.03043182 -0.00182856  0.0021941   0.00563357\n",
      "  0.20761    -0.0099166  -1.23313033]\n",
      "time elapsed:  271.28 seconds\n",
      "\n",
      "train x (600, 8)\n",
      "(600, 9)\n",
      "learning rate: 0.0001\n",
      "batch size: 32\n",
      "terminated after 190000 iterations, with norm of the gradient equal to 53.56690180211918\n",
      "the weight found: [ 0.13291665  0.01731771 -0.02788629 -0.00105046  0.0024529   0.00108023\n",
      "  0.11766803 -0.01011687 -0.64556144]\n",
      "time elapsed:  135.92 seconds\n",
      "\n",
      "train x (600, 8)\n",
      "(600, 9)\n",
      "learning rate: 0.0001\n",
      "batch size: 64\n",
      "terminated after 100000 iterations, with norm of the gradient equal to 7.478008976225047\n",
      "the weight found: [ 0.13260525  0.01418178 -0.03016232 -0.00150224  0.00174417 -0.00271128\n",
      "  0.06608202 -0.01158679 -0.34778131]\n",
      "time elapsed:  75.28 seconds\n",
      "\n",
      "train x (600, 8)\n",
      "(600, 9)\n",
      "learning rate: 0.0001\n",
      "batch size: 128\n",
      "terminated after 50000 iterations, with norm of the gradient equal to 10.433209277333006\n",
      "the weight found: [ 0.13234967  0.0141421  -0.03042758 -0.00108716  0.001575   -0.00416579\n",
      "  0.03358546 -0.01201685 -0.17644428]\n",
      "time elapsed:  38.50 seconds\n",
      "\n",
      "train x (600, 8)\n",
      "(600, 9)\n",
      "learning rate: 0.0001\n",
      "batch size: 256\n",
      "terminated after 30000 iterations, with norm of the gradient equal to 3.7122886819499685\n",
      "the weight found: [ 0.1315254   0.01421207 -0.03015594 -0.00096685  0.00212615 -0.00512289\n",
      "  0.01989881 -0.01241281 -0.1066427 ]\n",
      "time elapsed:  49.73 seconds\n",
      "\n",
      "train x (600, 8)\n",
      "(600, 9)\n",
      "learning rate: 0.0001\n",
      "batch size: 512\n",
      "terminated after 20000 iterations, with norm of the gradient equal to 6.5941555024349165\n",
      "the weight found: [ 0.12695     0.01261443 -0.03094362 -0.00110733  0.00181179 -0.00532016\n",
      "  0.01286954 -0.01125887 -0.07148726]\n",
      "time elapsed:  31.15 seconds\n",
      "\n"
     ]
    }
   ],
   "source": [
    "results = [ get_training_results_batch(1e-4, 3*(1e6), 1e4, batch_size, 10000) for batch_size in batch_sizes]"
   ]
  },
  {
   "cell_type": "code",
   "execution_count": 1,
   "metadata": {},
   "outputs": [
    {
     "ename": "NameError",
     "evalue": "name 'results' is not defined",
     "output_type": "error",
     "traceback": [
      "\u001b[0;31m---------------------------------------------------------------------------\u001b[0m",
      "\u001b[0;31mNameError\u001b[0m                                 Traceback (most recent call last)",
      "\u001b[0;32m/tmp/ipykernel_12202/4199824928.py\u001b[0m in \u001b[0;36m<module>\u001b[0;34m\u001b[0m\n\u001b[0;32m----> 1\u001b[0;31m \u001b[0mprint\u001b[0m\u001b[0;34m(\u001b[0m\u001b[0mresults\u001b[0m\u001b[0;34m)\u001b[0m\u001b[0;34m\u001b[0m\u001b[0;34m\u001b[0m\u001b[0m\n\u001b[0m",
      "\u001b[0;31mNameError\u001b[0m: name 'results' is not defined"
     ]
    }
   ],
   "source": [
    "print(results)"
   ]
  },
  {
   "cell_type": "code",
   "execution_count": 348,
   "metadata": {},
   "outputs": [
    {
     "name": "stdout",
     "output_type": "stream",
     "text": [
      "train x (600, 8)\n",
      "(600, 9)\n",
      "learning rate: 0.0001\n",
      "batch size: 8\n",
      "terminated after 375000 iterations, with norm of the gradient equal to 8.562970674943198\n",
      "the weight found: [ 1.36069475e-01  1.66685642e-02 -2.78874219e-02 -3.02284770e-03\n",
      "  3.58929444e-04  6.57439062e-03  2.07977661e-01 -9.32492841e-03\n",
      " -1.21876758e+00]\n",
      "time elapsed:  262.53 seconds\n",
      "\n",
      "train x (600, 8)\n",
      "(600, 9)\n",
      "learning rate: 0.0001\n",
      "batch size: 16\n",
      "terminated after 190000 iterations, with norm of the gradient equal to 38.294858452548816\n",
      "the weight found: [ 1.33950569e-01  1.36393868e-02 -3.01606113e-02 -2.02694175e-03\n",
      " -1.67675987e-03 -2.64878462e-05  1.18547706e-01 -1.20823521e-02\n",
      " -6.45524845e-01]\n",
      "time elapsed:  133.77 seconds\n",
      "\n",
      "train x (600, 8)\n",
      "(600, 9)\n",
      "learning rate: 0.0001\n",
      "batch size: 32\n",
      "terminated after 95000 iterations, with norm of the gradient equal to 7.762442433253489\n",
      "the weight found: [ 0.13278691  0.01521751 -0.03008066 -0.00102292  0.00161369 -0.0025335\n",
      "  0.06258461 -0.01113787 -0.33078607]\n",
      "time elapsed:  71.38 seconds\n",
      "\n",
      "train x (600, 8)\n",
      "(600, 9)\n",
      "learning rate: 0.0001\n",
      "batch size: 64\n",
      "terminated after 50000 iterations, with norm of the gradient equal to 9.850174240588863\n",
      "the weight found: [ 0.13264409  0.01355056 -0.03012133 -0.00095285  0.00169063 -0.003976\n",
      "  0.03365699 -0.01189905 -0.17636256]\n",
      "time elapsed:  40.79 seconds\n",
      "\n",
      "train x (600, 8)\n",
      "(600, 9)\n",
      "learning rate: 0.0001\n",
      "batch size: 128\n",
      "terminated after 25000 iterations, with norm of the gradient equal to 12.23139127404702\n",
      "the weight found: [ 0.13000086  0.01382029 -0.03061858 -0.00089567  0.00169132 -0.00502258\n",
      "  0.01657947 -0.0117626  -0.0890803 ]\n",
      "time elapsed:  25.19 seconds\n",
      "\n",
      "train x (600, 8)\n",
      "(600, 9)\n",
      "learning rate: 0.0001\n",
      "batch size: 256\n",
      "terminated after 15000 iterations, with norm of the gradient equal to 8.555107818549422\n",
      "the weight found: [ 0.1211338   0.01318173 -0.03093212 -0.00069298  0.00137119 -0.00509197\n",
      "  0.00969902 -0.01013811 -0.05386502]\n",
      "time elapsed:  29.58 seconds\n",
      "\n",
      "train x (600, 8)\n",
      "(600, 9)\n",
      "learning rate: 0.0001\n",
      "batch size: 512\n",
      "terminated after 10000 iterations, with norm of the gradient equal to 9.016643125659316\n",
      "the weight found: [ 0.10624873  0.01376205 -0.03131031 -0.00050726  0.00206449 -0.0063788\n",
      "  0.00620283 -0.00778723 -0.03611741]\n",
      "time elapsed:  20.40 seconds\n",
      "\n"
     ]
    }
   ],
   "source": [
    "results_5000_mom = [ get_training_results_batch(1e-4, 3*(1e6), 1e4, batch_size, 5000, 0.9) for batch_size in batch_sizes]"
   ]
  },
  {
   "cell_type": "code",
   "execution_count": 2,
   "metadata": {},
   "outputs": [
    {
     "name": "stdout",
     "output_type": "stream",
     "text": [
      "10000 epochs\n"
     ]
    },
    {
     "ename": "NameError",
     "evalue": "name 'results' is not defined",
     "output_type": "error",
     "traceback": [
      "\u001b[0;31m---------------------------------------------------------------------------\u001b[0m",
      "\u001b[0;31mNameError\u001b[0m                                 Traceback (most recent call last)",
      "\u001b[0;32m/tmp/ipykernel_12202/3530810780.py\u001b[0m in \u001b[0;36m<module>\u001b[0;34m\u001b[0m\n\u001b[1;32m      1\u001b[0m \u001b[0mprint\u001b[0m\u001b[0;34m(\u001b[0m\u001b[0;34m\"10000 epochs\"\u001b[0m\u001b[0;34m)\u001b[0m\u001b[0;34m\u001b[0m\u001b[0;34m\u001b[0m\u001b[0m\n\u001b[0;32m----> 2\u001b[0;31m \u001b[0;32mfor\u001b[0m \u001b[0mresult\u001b[0m \u001b[0;32min\u001b[0m \u001b[0mresults\u001b[0m\u001b[0;34m:\u001b[0m\u001b[0;34m\u001b[0m\u001b[0;34m\u001b[0m\u001b[0m\n\u001b[0m\u001b[1;32m      3\u001b[0m     \u001b[0mtest_yh\u001b[0m \u001b[0;34m=\u001b[0m \u001b[0;34m(\u001b[0m\u001b[0mresult\u001b[0m\u001b[0;34m.\u001b[0m\u001b[0mlr_model\u001b[0m\u001b[0;34m.\u001b[0m\u001b[0mpredict\u001b[0m\u001b[0;34m(\u001b[0m\u001b[0mtest_X\u001b[0m\u001b[0;34m)\u001b[0m \u001b[0;34m>\u001b[0m \u001b[0;36m0.5\u001b[0m\u001b[0;34m)\u001b[0m\u001b[0;34m.\u001b[0m\u001b[0mastype\u001b[0m\u001b[0;34m(\u001b[0m\u001b[0;34m'int'\u001b[0m\u001b[0;34m)\u001b[0m\u001b[0;34m\u001b[0m\u001b[0;34m\u001b[0m\u001b[0m\n\u001b[1;32m      4\u001b[0m     \u001b[0mprint\u001b[0m\u001b[0;34m(\u001b[0m\u001b[0;34m\"Batch size: \"\u001b[0m\u001b[0;34m,\u001b[0m \u001b[0mresult\u001b[0m\u001b[0;34m.\u001b[0m\u001b[0mbatch_size\u001b[0m\u001b[0;34m,\u001b[0m \u001b[0;34m\" Accuracy: \"\u001b[0m\u001b[0;34m,\u001b[0m \u001b[0maccuracy_score\u001b[0m\u001b[0;34m(\u001b[0m\u001b[0mtest_y\u001b[0m\u001b[0;34m,\u001b[0m \u001b[0mtest_yh\u001b[0m\u001b[0;34m)\u001b[0m\u001b[0;34m)\u001b[0m\u001b[0;34m\u001b[0m\u001b[0;34m\u001b[0m\u001b[0m\n\u001b[1;32m      5\u001b[0m \u001b[0mprint\u001b[0m\u001b[0;34m(\u001b[0m\u001b[0;34m)\u001b[0m\u001b[0;34m\u001b[0m\u001b[0;34m\u001b[0m\u001b[0m\n",
      "\u001b[0;31mNameError\u001b[0m: name 'results' is not defined"
     ]
    }
   ],
   "source": [
    "print(\"10000 epochs\")\n",
    "for result in results:\n",
    "    test_yh = (result.lr_model.predict(test_X) > 0.5).astype('int')\n",
    "    print(\"Batch size: \", result.batch_size, \" Accuracy: \", accuracy_score(test_y, test_yh))\n",
    "print()\n",
    "print(\"5000 epochs\")\n",
    "for result in results_5000:\n",
    "    test_yh = (result.lr_model.predict(test_X) > 0.5).astype('int')\n",
    "    print(\"Batch size: \", result.batch_size, \" Accuracy: \", accuracy_score(test_y, test_yh))\n",
    "plot_epochs(results, 10000)"
   ]
  },
  {
   "cell_type": "code",
   "execution_count": 292,
   "metadata": {
    "scrolled": true
   },
   "outputs": [
    {
     "name": "stderr",
     "output_type": "stream",
     "text": [
      "[Parallel(n_jobs=-1)]: Using backend LokyBackend with 4 concurrent workers.\n",
      "[Parallel(n_jobs=-1)]: Done   1 tasks      | elapsed:    1.1s\n",
      "[Parallel(n_jobs=-1)]: Done   2 out of   7 | elapsed:    1.1s remaining:    2.7s\n",
      "[Parallel(n_jobs=-1)]: Done   3 out of   7 | elapsed:    1.1s remaining:    1.4s\n",
      "[Parallel(n_jobs=-1)]: Done   4 out of   7 | elapsed:    1.1s remaining:    0.8s\n",
      "[Parallel(n_jobs=-1)]: Done   5 out of   7 | elapsed:    1.1s remaining:    0.4s\n",
      "[Parallel(n_jobs=-1)]: Done   7 out of   7 | elapsed:    1.1s remaining:    0.0s\n"
     ]
    },
    {
     "ename": "KeyError",
     "evalue": "'[430, 289] not in index'",
     "output_type": "error",
     "traceback": [
      "\u001b[0;31m---------------------------------------------------------------------------\u001b[0m",
      "\u001b[0;31m_RemoteTraceback\u001b[0m                          Traceback (most recent call last)",
      "\u001b[0;31m_RemoteTraceback\u001b[0m: \n\"\"\"\nTraceback (most recent call last):\n  File \"/home/twatson/miniconda3/lib/python3.9/site-packages/joblib/externals/loky/process_executor.py\", line 436, in _process_worker\n    r = call_item()\n  File \"/home/twatson/miniconda3/lib/python3.9/site-packages/joblib/externals/loky/process_executor.py\", line 288, in __call__\n    return self.fn(*self.args, **self.kwargs)\n  File \"/home/twatson/miniconda3/lib/python3.9/site-packages/joblib/_parallel_backends.py\", line 595, in __call__\n    return self.func(*args, **kwargs)\n  File \"/home/twatson/miniconda3/lib/python3.9/site-packages/joblib/parallel.py\", line 262, in __call__\n    return [func(*args, **kwargs)\n  File \"/home/twatson/miniconda3/lib/python3.9/site-packages/joblib/parallel.py\", line 262, in <listcomp>\n    return [func(*args, **kwargs)\n  File \"/tmp/ipykernel_39486/104369091.py\", line 4, in get_training_results_batch\n  File \"/tmp/ipykernel_39486/1947801981.py\", line 119, in fit_for_vis\n  File \"/home/twatson/miniconda3/lib/python3.9/site-packages/pandas/core/series.py\", line 966, in __getitem__\n    return self._get_with(key)\n  File \"/home/twatson/miniconda3/lib/python3.9/site-packages/pandas/core/series.py\", line 1001, in _get_with\n    return self.loc[key]\n  File \"/home/twatson/miniconda3/lib/python3.9/site-packages/pandas/core/indexing.py\", line 931, in __getitem__\n    return self._getitem_axis(maybe_callable, axis=axis)\n  File \"/home/twatson/miniconda3/lib/python3.9/site-packages/pandas/core/indexing.py\", line 1153, in _getitem_axis\n    return self._getitem_iterable(key, axis=axis)\n  File \"/home/twatson/miniconda3/lib/python3.9/site-packages/pandas/core/indexing.py\", line 1093, in _getitem_iterable\n    keyarr, indexer = self._get_listlike_indexer(key, axis)\n  File \"/home/twatson/miniconda3/lib/python3.9/site-packages/pandas/core/indexing.py\", line 1314, in _get_listlike_indexer\n    self._validate_read_indexer(keyarr, indexer, axis)\n  File \"/home/twatson/miniconda3/lib/python3.9/site-packages/pandas/core/indexing.py\", line 1377, in _validate_read_indexer\n    raise KeyError(f\"{not_found} not in index\")\nKeyError: '[430, 289] not in index'\n\"\"\"",
      "\nThe above exception was the direct cause of the following exception:\n",
      "\u001b[0;31mKeyError\u001b[0m                                  Traceback (most recent call last)",
      "\u001b[0;32m/tmp/ipykernel_39486/2710179268.py\u001b[0m in \u001b[0;36m<module>\u001b[0;34m\u001b[0m\n\u001b[1;32m      3\u001b[0m \u001b[0;34m\u001b[0m\u001b[0m\n\u001b[1;32m      4\u001b[0m \u001b[0mbatch_sizes\u001b[0m \u001b[0;34m=\u001b[0m \u001b[0;34m[\u001b[0m\u001b[0;36m8\u001b[0m\u001b[0;34m,\u001b[0m \u001b[0;36m16\u001b[0m\u001b[0;34m,\u001b[0m \u001b[0;36m32\u001b[0m\u001b[0;34m,\u001b[0m \u001b[0;36m64\u001b[0m\u001b[0;34m,\u001b[0m \u001b[0;36m128\u001b[0m\u001b[0;34m,\u001b[0m \u001b[0;36m256\u001b[0m\u001b[0;34m,\u001b[0m \u001b[0;36m512\u001b[0m\u001b[0;34m]\u001b[0m\u001b[0;34m\u001b[0m\u001b[0;34m\u001b[0m\u001b[0m\n\u001b[0;32m----> 5\u001b[0;31m \u001b[0mresults_lr_best\u001b[0m \u001b[0;34m=\u001b[0m \u001b[0mParallel\u001b[0m\u001b[0;34m(\u001b[0m\u001b[0mn_jobs\u001b[0m\u001b[0;34m=\u001b[0m\u001b[0;34m-\u001b[0m\u001b[0;36m1\u001b[0m\u001b[0;34m,\u001b[0m \u001b[0mverbose\u001b[0m\u001b[0;34m=\u001b[0m\u001b[0;36m10\u001b[0m\u001b[0;34m)\u001b[0m\u001b[0;34m(\u001b[0m\u001b[0mdelayed\u001b[0m\u001b[0;34m(\u001b[0m\u001b[0mget_training_results_batch\u001b[0m\u001b[0;34m)\u001b[0m\u001b[0;34m(\u001b[0m\u001b[0;36m1e-4\u001b[0m\u001b[0;34m,\u001b[0m \u001b[0mnew_max_iter\u001b[0m\u001b[0;34m,\u001b[0m \u001b[0mnew_itv\u001b[0m\u001b[0;34m,\u001b[0m \u001b[0mbatch_size\u001b[0m\u001b[0;34m,\u001b[0m \u001b[0mmax_epochs\u001b[0m\u001b[0;34m=\u001b[0m\u001b[0;36m3\u001b[0m\u001b[0;34m)\u001b[0m \u001b[0;32mfor\u001b[0m \u001b[0mbatch_size\u001b[0m \u001b[0;32min\u001b[0m \u001b[0mbatch_sizes\u001b[0m\u001b[0;34m)\u001b[0m\u001b[0;34m\u001b[0m\u001b[0;34m\u001b[0m\u001b[0m\n\u001b[0m\u001b[1;32m      6\u001b[0m \u001b[0;31m# results_lr_low = Parallel(n_jobs=-1, verbose=10)(delayed(get_training_results_batch)(1e-7, new_max_iter, new_itv, batch_size) for batch_size in batch_sizes)\u001b[0m\u001b[0;34m\u001b[0m\u001b[0;34m\u001b[0m\u001b[0;34m\u001b[0m\u001b[0m\n\u001b[1;32m      7\u001b[0m \u001b[0;31m# results_lr_high = Parallel(n_jobs=-1, verbose=10)(delayed(get_training_results_batch)(0.2, new_max_iter, new_itv, batch_size) for batch_size in batch_sizes)\u001b[0m\u001b[0;34m\u001b[0m\u001b[0;34m\u001b[0m\u001b[0;34m\u001b[0m\u001b[0m\n",
      "\u001b[0;32m~/miniconda3/lib/python3.9/site-packages/joblib/parallel.py\u001b[0m in \u001b[0;36m__call__\u001b[0;34m(self, iterable)\u001b[0m\n\u001b[1;32m   1054\u001b[0m \u001b[0;34m\u001b[0m\u001b[0m\n\u001b[1;32m   1055\u001b[0m             \u001b[0;32mwith\u001b[0m \u001b[0mself\u001b[0m\u001b[0;34m.\u001b[0m\u001b[0m_backend\u001b[0m\u001b[0;34m.\u001b[0m\u001b[0mretrieval_context\u001b[0m\u001b[0;34m(\u001b[0m\u001b[0;34m)\u001b[0m\u001b[0;34m:\u001b[0m\u001b[0;34m\u001b[0m\u001b[0;34m\u001b[0m\u001b[0m\n\u001b[0;32m-> 1056\u001b[0;31m                 \u001b[0mself\u001b[0m\u001b[0;34m.\u001b[0m\u001b[0mretrieve\u001b[0m\u001b[0;34m(\u001b[0m\u001b[0;34m)\u001b[0m\u001b[0;34m\u001b[0m\u001b[0;34m\u001b[0m\u001b[0m\n\u001b[0m\u001b[1;32m   1057\u001b[0m             \u001b[0;31m# Make sure that we get a last message telling us we are done\u001b[0m\u001b[0;34m\u001b[0m\u001b[0;34m\u001b[0m\u001b[0;34m\u001b[0m\u001b[0m\n\u001b[1;32m   1058\u001b[0m             \u001b[0melapsed_time\u001b[0m \u001b[0;34m=\u001b[0m \u001b[0mtime\u001b[0m\u001b[0;34m.\u001b[0m\u001b[0mtime\u001b[0m\u001b[0;34m(\u001b[0m\u001b[0;34m)\u001b[0m \u001b[0;34m-\u001b[0m \u001b[0mself\u001b[0m\u001b[0;34m.\u001b[0m\u001b[0m_start_time\u001b[0m\u001b[0;34m\u001b[0m\u001b[0;34m\u001b[0m\u001b[0m\n",
      "\u001b[0;32m~/miniconda3/lib/python3.9/site-packages/joblib/parallel.py\u001b[0m in \u001b[0;36mretrieve\u001b[0;34m(self)\u001b[0m\n\u001b[1;32m    933\u001b[0m             \u001b[0;32mtry\u001b[0m\u001b[0;34m:\u001b[0m\u001b[0;34m\u001b[0m\u001b[0;34m\u001b[0m\u001b[0m\n\u001b[1;32m    934\u001b[0m                 \u001b[0;32mif\u001b[0m \u001b[0mgetattr\u001b[0m\u001b[0;34m(\u001b[0m\u001b[0mself\u001b[0m\u001b[0;34m.\u001b[0m\u001b[0m_backend\u001b[0m\u001b[0;34m,\u001b[0m \u001b[0;34m'supports_timeout'\u001b[0m\u001b[0;34m,\u001b[0m \u001b[0;32mFalse\u001b[0m\u001b[0;34m)\u001b[0m\u001b[0;34m:\u001b[0m\u001b[0;34m\u001b[0m\u001b[0;34m\u001b[0m\u001b[0m\n\u001b[0;32m--> 935\u001b[0;31m                     \u001b[0mself\u001b[0m\u001b[0;34m.\u001b[0m\u001b[0m_output\u001b[0m\u001b[0;34m.\u001b[0m\u001b[0mextend\u001b[0m\u001b[0;34m(\u001b[0m\u001b[0mjob\u001b[0m\u001b[0;34m.\u001b[0m\u001b[0mget\u001b[0m\u001b[0;34m(\u001b[0m\u001b[0mtimeout\u001b[0m\u001b[0;34m=\u001b[0m\u001b[0mself\u001b[0m\u001b[0;34m.\u001b[0m\u001b[0mtimeout\u001b[0m\u001b[0;34m)\u001b[0m\u001b[0;34m)\u001b[0m\u001b[0;34m\u001b[0m\u001b[0;34m\u001b[0m\u001b[0m\n\u001b[0m\u001b[1;32m    936\u001b[0m                 \u001b[0;32melse\u001b[0m\u001b[0;34m:\u001b[0m\u001b[0;34m\u001b[0m\u001b[0;34m\u001b[0m\u001b[0m\n\u001b[1;32m    937\u001b[0m                     \u001b[0mself\u001b[0m\u001b[0;34m.\u001b[0m\u001b[0m_output\u001b[0m\u001b[0;34m.\u001b[0m\u001b[0mextend\u001b[0m\u001b[0;34m(\u001b[0m\u001b[0mjob\u001b[0m\u001b[0;34m.\u001b[0m\u001b[0mget\u001b[0m\u001b[0;34m(\u001b[0m\u001b[0;34m)\u001b[0m\u001b[0;34m)\u001b[0m\u001b[0;34m\u001b[0m\u001b[0;34m\u001b[0m\u001b[0m\n",
      "\u001b[0;32m~/miniconda3/lib/python3.9/site-packages/joblib/_parallel_backends.py\u001b[0m in \u001b[0;36mwrap_future_result\u001b[0;34m(future, timeout)\u001b[0m\n\u001b[1;32m    540\u001b[0m         AsyncResults.get from multiprocessing.\"\"\"\n\u001b[1;32m    541\u001b[0m         \u001b[0;32mtry\u001b[0m\u001b[0;34m:\u001b[0m\u001b[0;34m\u001b[0m\u001b[0;34m\u001b[0m\u001b[0m\n\u001b[0;32m--> 542\u001b[0;31m             \u001b[0;32mreturn\u001b[0m \u001b[0mfuture\u001b[0m\u001b[0;34m.\u001b[0m\u001b[0mresult\u001b[0m\u001b[0;34m(\u001b[0m\u001b[0mtimeout\u001b[0m\u001b[0;34m=\u001b[0m\u001b[0mtimeout\u001b[0m\u001b[0;34m)\u001b[0m\u001b[0;34m\u001b[0m\u001b[0;34m\u001b[0m\u001b[0m\n\u001b[0m\u001b[1;32m    543\u001b[0m         \u001b[0;32mexcept\u001b[0m \u001b[0mCfTimeoutError\u001b[0m \u001b[0;32mas\u001b[0m \u001b[0me\u001b[0m\u001b[0;34m:\u001b[0m\u001b[0;34m\u001b[0m\u001b[0;34m\u001b[0m\u001b[0m\n\u001b[1;32m    544\u001b[0m             \u001b[0;32mraise\u001b[0m \u001b[0mTimeoutError\u001b[0m \u001b[0;32mfrom\u001b[0m \u001b[0me\u001b[0m\u001b[0;34m\u001b[0m\u001b[0;34m\u001b[0m\u001b[0m\n",
      "\u001b[0;32m~/miniconda3/lib/python3.9/concurrent/futures/_base.py\u001b[0m in \u001b[0;36mresult\u001b[0;34m(self, timeout)\u001b[0m\n\u001b[1;32m    443\u001b[0m                     \u001b[0;32mraise\u001b[0m \u001b[0mCancelledError\u001b[0m\u001b[0;34m(\u001b[0m\u001b[0;34m)\u001b[0m\u001b[0;34m\u001b[0m\u001b[0;34m\u001b[0m\u001b[0m\n\u001b[1;32m    444\u001b[0m                 \u001b[0;32melif\u001b[0m \u001b[0mself\u001b[0m\u001b[0;34m.\u001b[0m\u001b[0m_state\u001b[0m \u001b[0;34m==\u001b[0m \u001b[0mFINISHED\u001b[0m\u001b[0;34m:\u001b[0m\u001b[0;34m\u001b[0m\u001b[0;34m\u001b[0m\u001b[0m\n\u001b[0;32m--> 445\u001b[0;31m                     \u001b[0;32mreturn\u001b[0m \u001b[0mself\u001b[0m\u001b[0;34m.\u001b[0m\u001b[0m__get_result\u001b[0m\u001b[0;34m(\u001b[0m\u001b[0;34m)\u001b[0m\u001b[0;34m\u001b[0m\u001b[0;34m\u001b[0m\u001b[0m\n\u001b[0m\u001b[1;32m    446\u001b[0m                 \u001b[0;32melse\u001b[0m\u001b[0;34m:\u001b[0m\u001b[0;34m\u001b[0m\u001b[0;34m\u001b[0m\u001b[0m\n\u001b[1;32m    447\u001b[0m                     \u001b[0;32mraise\u001b[0m \u001b[0mTimeoutError\u001b[0m\u001b[0;34m(\u001b[0m\u001b[0;34m)\u001b[0m\u001b[0;34m\u001b[0m\u001b[0;34m\u001b[0m\u001b[0m\n",
      "\u001b[0;32m~/miniconda3/lib/python3.9/concurrent/futures/_base.py\u001b[0m in \u001b[0;36m__get_result\u001b[0;34m(self)\u001b[0m\n\u001b[1;32m    388\u001b[0m         \u001b[0;32mif\u001b[0m \u001b[0mself\u001b[0m\u001b[0;34m.\u001b[0m\u001b[0m_exception\u001b[0m\u001b[0;34m:\u001b[0m\u001b[0;34m\u001b[0m\u001b[0;34m\u001b[0m\u001b[0m\n\u001b[1;32m    389\u001b[0m             \u001b[0;32mtry\u001b[0m\u001b[0;34m:\u001b[0m\u001b[0;34m\u001b[0m\u001b[0;34m\u001b[0m\u001b[0m\n\u001b[0;32m--> 390\u001b[0;31m                 \u001b[0;32mraise\u001b[0m \u001b[0mself\u001b[0m\u001b[0;34m.\u001b[0m\u001b[0m_exception\u001b[0m\u001b[0;34m\u001b[0m\u001b[0;34m\u001b[0m\u001b[0m\n\u001b[0m\u001b[1;32m    391\u001b[0m             \u001b[0;32mfinally\u001b[0m\u001b[0;34m:\u001b[0m\u001b[0;34m\u001b[0m\u001b[0;34m\u001b[0m\u001b[0m\n\u001b[1;32m    392\u001b[0m                 \u001b[0;31m# Break a reference cycle with the exception in self._exception\u001b[0m\u001b[0;34m\u001b[0m\u001b[0;34m\u001b[0m\u001b[0;34m\u001b[0m\u001b[0m\n",
      "\u001b[0;31mKeyError\u001b[0m: '[430, 289] not in index'"
     ]
    }
   ],
   "source": [
    "new_max_iter = 3*(1e6)\n",
    "new_itv = 1e4\n",
    "\n",
    "batch_sizes = [8, 16, 32, 64, 128, 256, 512]\n",
    "results_lr_best = Parallel(n_jobs=-1, verbose=10)(delayed(get_training_results_batch)(1e-4, new_max_iter, new_itv, batch_size, max_epochs=3) for batch_size in batch_sizes)\n",
    "# results_lr_low = Parallel(n_jobs=-1, verbose=10)(delayed(get_training_results_batch)(1e-7, new_max_iter, new_itv, batch_size) for batch_size in batch_sizes)\n",
    "# results_lr_high = Parallel(n_jobs=-1, verbose=10)(delayed(get_training_results_batch)(0.2, new_max_iter, new_itv, batch_size) for batch_size in batch_sizes)\n",
    "\n",
    "modified_results_lr_best = same_length_lsts(results_lr_best)\n",
    "# modified_results_lr_low = same_length_lsts(results_lr_low)\n",
    "# modified_results_lr_high = same_length_lsts(results_lr_high)\n",
    "\n",
    "# plot_results(modified_results_lr_low, 'lr_low')\n",
    "plot_results(modified_results_lr_best, 'lr_best')\n",
    "# plot_results(modified_results_lr_high, 'lr_high')"
   ]
  },
  {
   "cell_type": "code",
   "execution_count": 213,
   "metadata": {},
   "outputs": [
    {
     "ename": "TypeError",
     "evalue": "'TrainingResults' object is not subscriptable",
     "output_type": "error",
     "traceback": [
      "\u001b[0;31m---------------------------------------------------------------------------\u001b[0m",
      "\u001b[0;31mTypeError\u001b[0m                                 Traceback (most recent call last)",
      "\u001b[0;32m/tmp/ipykernel_39486/3992029345.py\u001b[0m in \u001b[0;36m<module>\u001b[0;34m\u001b[0m\n\u001b[1;32m     13\u001b[0m \u001b[0;34m\u001b[0m\u001b[0m\n\u001b[1;32m     14\u001b[0m \u001b[0mmetrics_lr_low_lst\u001b[0m \u001b[0;34m=\u001b[0m \u001b[0mtup_to_list\u001b[0m\u001b[0;34m(\u001b[0m\u001b[0mmetrics_lr_low\u001b[0m\u001b[0;34m)\u001b[0m\u001b[0;34m\u001b[0m\u001b[0;34m\u001b[0m\u001b[0m\n\u001b[0;32m---> 15\u001b[0;31m \u001b[0mmetrics_lr_best_lst\u001b[0m \u001b[0;34m=\u001b[0m \u001b[0mtup_to_list\u001b[0m\u001b[0;34m(\u001b[0m\u001b[0mmetrics_lr_best\u001b[0m\u001b[0;34m)\u001b[0m\u001b[0;34m\u001b[0m\u001b[0;34m\u001b[0m\u001b[0m\n\u001b[0m\u001b[1;32m     16\u001b[0m \u001b[0mprint\u001b[0m\u001b[0;34m(\u001b[0m\u001b[0mlen\u001b[0m\u001b[0;34m(\u001b[0m\u001b[0mmetrics_lr_low\u001b[0m\u001b[0;34m)\u001b[0m\u001b[0;34m)\u001b[0m\u001b[0;34m\u001b[0m\u001b[0;34m\u001b[0m\u001b[0m\n",
      "\u001b[0;32m/tmp/ipykernel_39486/3992029345.py\u001b[0m in \u001b[0;36mtup_to_list\u001b[0;34m(metrics)\u001b[0m\n\u001b[1;32m      2\u001b[0m     \u001b[0mmax_time_num_itv\u001b[0m \u001b[0;34m=\u001b[0m \u001b[0;36m0\u001b[0m\u001b[0;34m\u001b[0m\u001b[0;34m\u001b[0m\u001b[0m\n\u001b[1;32m      3\u001b[0m     \u001b[0;32mfor\u001b[0m \u001b[0mi\u001b[0m \u001b[0;32min\u001b[0m \u001b[0mrange\u001b[0m\u001b[0;34m(\u001b[0m\u001b[0mlen\u001b[0m\u001b[0;34m(\u001b[0m\u001b[0mmetrics\u001b[0m\u001b[0;34m)\u001b[0m\u001b[0;34m)\u001b[0m\u001b[0;34m:\u001b[0m\u001b[0;34m\u001b[0m\u001b[0;34m\u001b[0m\u001b[0m\n\u001b[0;32m----> 4\u001b[0;31m         \u001b[0;32mif\u001b[0m \u001b[0mlen\u001b[0m\u001b[0;34m(\u001b[0m\u001b[0mmetrics\u001b[0m\u001b[0;34m[\u001b[0m\u001b[0mi\u001b[0m\u001b[0;34m]\u001b[0m\u001b[0;34m[\u001b[0m\u001b[0;36m1\u001b[0m\u001b[0;34m]\u001b[0m\u001b[0;34m)\u001b[0m \u001b[0;34m>\u001b[0m \u001b[0mmax_time_num_itv\u001b[0m\u001b[0;34m:\u001b[0m\u001b[0;34m\u001b[0m\u001b[0;34m\u001b[0m\u001b[0m\n\u001b[0m\u001b[1;32m      5\u001b[0m             \u001b[0mmax_time_num_itv\u001b[0m \u001b[0;34m=\u001b[0m \u001b[0mlen\u001b[0m\u001b[0;34m(\u001b[0m\u001b[0mmetrics\u001b[0m\u001b[0;34m[\u001b[0m\u001b[0mi\u001b[0m\u001b[0;34m]\u001b[0m\u001b[0;34m[\u001b[0m\u001b[0;36m1\u001b[0m\u001b[0;34m]\u001b[0m\u001b[0;34m)\u001b[0m\u001b[0;34m\u001b[0m\u001b[0;34m\u001b[0m\u001b[0m\n\u001b[1;32m      6\u001b[0m     \u001b[0mmetrics_lst\u001b[0m \u001b[0;34m=\u001b[0m \u001b[0;34m[\u001b[0m\u001b[0mlist\u001b[0m\u001b[0;34m(\u001b[0m\u001b[0melem\u001b[0m\u001b[0;34m)\u001b[0m \u001b[0;32mfor\u001b[0m \u001b[0melem\u001b[0m \u001b[0;32min\u001b[0m \u001b[0mmetrics\u001b[0m\u001b[0;34m]\u001b[0m\u001b[0;34m\u001b[0m\u001b[0;34m\u001b[0m\u001b[0m\n",
      "\u001b[0;31mTypeError\u001b[0m: 'TrainingResults' object is not subscriptable"
     ]
    }
   ],
   "source": [
    "def tup_to_list(metrics):\n",
    "    max_time_num_itv = 0\n",
    "    for i in range(len(metrics)):\n",
    "        if len(metrics[i][1]) > max_time_num_itv:\n",
    "            max_time_num_itv = len(metrics[i][1])\n",
    "    metrics_lst = [list(elem) for elem in metrics]\n",
    "    for i in range(len(batch_sizes)):\n",
    "        if len(metrics[i][1]) < max_time_num_itv:\n",
    "            metrics_lst[i][1] += [metrics_lst[i][1][-1]] * (max_time_num_itv - len(metrics_lst[i][1]))\n",
    "        if len(metrics[i][3]) < max_time_num_itv:\n",
    "            metrics_lst[i][3] += [metrics_lst[i][3][-1]] * (max_time_num_itv - len(metrics_lst[i][3]))\n",
    "    return metrics_lst\n",
    "\n",
    "metrics_lr_low_lst = tup_to_list(metrics_lr_low)\n",
    "metrics_lr_best_lst = tup_to_list(metrics_lr_best)\n",
    "print(len(metrics_lr_low))"
   ]
  },
  {
   "cell_type": "code",
   "execution_count": 184,
   "metadata": {},
   "outputs": [
    {
     "name": "stdout",
     "output_type": "stream",
     "text": [
      "45\n"
     ]
    }
   ],
   "source": [
    "print('4' + '5')"
   ]
  },
  {
   "cell_type": "code",
   "execution_count": null,
   "metadata": {},
   "outputs": [],
   "source": []
  }
 ],
 "metadata": {
  "colab": {
   "collapsed_sections": [
    "zd3qXJ1pfYCR",
    "dHK9KN_zfYCa",
    "0hPuEi7SfYCm",
    "8C2o_mMdfYCt",
    "pzmyncrPfYCz"
   ],
   "include_colab_link": true,
   "name": "tyler_part1_2.ipynb",
   "provenance": [],
   "toc_visible": true
  },
  "kernelspec": {
   "display_name": "Python 3",
   "language": "python",
   "name": "python3"
  },
  "language_info": {
   "codemirror_mode": {
    "name": "ipython",
    "version": 3
   },
   "file_extension": ".py",
   "mimetype": "text/x-python",
   "name": "python",
   "nbconvert_exporter": "python",
   "pygments_lexer": "ipython3",
   "version": "3.9.5"
  }
 },
 "nbformat": 4,
 "nbformat_minor": 1
}
