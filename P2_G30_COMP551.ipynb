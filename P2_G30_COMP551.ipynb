{
  "nbformat": 4,
  "nbformat_minor": 0,
  "metadata": {
    "colab": {
      "name": "P2_G30_COMP551.ipynb",
      "provenance": [],
      "authorship_tag": "ABX9TyOVJKSOAxzRl6yaY/3bYIM8",
      "include_colab_link": true
    },
    "kernelspec": {
      "name": "python3",
      "display_name": "Python 3"
    },
    "language_info": {
      "name": "python"
    }
  },
  "cells": [
    {
      "cell_type": "markdown",
      "metadata": {
        "id": "view-in-github",
        "colab_type": "text"
      },
      "source": [
        "<a href=\"https://colab.research.google.com/github/felixsimard/comp551-p2/blob/main/P2_G30_COMP551.ipynb\" target=\"_parent\"><img src=\"https://colab.research.google.com/assets/colab-badge.svg\" alt=\"Open In Colab\"/></a>"
      ]
    },
    {
      "cell_type": "markdown",
      "metadata": {
        "id": "7oKWQZL1Fckh"
      },
      "source": [
        "\n",
        "# **COMP 551 - Applied Machine Learning**\n",
        "\n",
        "### MiniProject 2: Optimization and Text Classification\n",
        "\n",
        "Takuya Ishii () <br>\n",
        "Felix Simard (260865674) <br>\n",
        "Tyler Watson ()\n",
        "\n",
        "**Group 30** <br>\n",
        "Oct 21th, 2021\n"
      ]
    },
    {
      "cell_type": "markdown",
      "metadata": {
        "id": "_JLAmMFSFuWx"
      },
      "source": [
        "## **Setup**"
      ]
    },
    {
      "cell_type": "code",
      "metadata": {
        "id": "okyyCyUiFWUM"
      },
      "source": [
        "import pandas as pd\n",
        "import numpy as np\n",
        "import matplotlib.pyplot as plt\n",
        "from sklearn.model_selection import train_test_split"
      ],
      "execution_count": 1,
      "outputs": []
    },
    {
      "cell_type": "markdown",
      "metadata": {
        "id": "dfnS6qo5F73z"
      },
      "source": [
        "## **Part 1: Optimization**\n",
        "Link to datasets: https://github.com/felixsimard/comp551-p2/tree/main/diabetes\n"
      ]
    },
    {
      "cell_type": "code",
      "metadata": {
        "id": "BLb3jVqHF60C"
      },
      "source": [
        ""
      ],
      "execution_count": null,
      "outputs": []
    },
    {
      "cell_type": "markdown",
      "metadata": {
        "id": "ypaRT_8fGFZM"
      },
      "source": [
        "## **Part 2: Text Classification**\n",
        "Link to datasets: https://github.com/felixsimard/comp551-p2/tree/main/fake_news\n"
      ]
    },
    {
      "cell_type": "code",
      "metadata": {
        "id": "FhJa_mURGM2z"
      },
      "source": [
        ""
      ],
      "execution_count": null,
      "outputs": []
    }
  ]
}